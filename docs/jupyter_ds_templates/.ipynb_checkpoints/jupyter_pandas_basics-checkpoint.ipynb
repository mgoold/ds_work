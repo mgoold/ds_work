{
 "cells": [
  {
   "cell_type": "code",
   "execution_count": 7,
   "id": "98dea2b8",
   "metadata": {},
   "outputs": [],
   "source": [
    "import numpy as np\n",
    "import pandas as pd\n",
    "from numpy.random import Generator, PCG64\n",
    "\n",
    "#widgets\n",
    "from ipywidgets import interact, interactive, fixed, interact_manual\n",
    "import ipywidgets as widgets\n",
    "from IPython.display import display\n",
    "\n",
    "#plots\n",
    "import matplotlib.pyplot as plt\n",
    "\n",
    "from plotnine import *\n",
    "from mizani import *\n",
    "from mizani.formatters import percent_format\n",
    "\n",
    "#stats\n",
    "import scipy as sp\n",
    "from scipy import stats\n",
    "import statsmodels as sm\n",
    "\n",
    "import warnings\n",
    "warnings.filterwarnings('ignore')\n",
    "import collections"
   ]
  },
  {
   "cell_type": "markdown",
   "id": "a4305200",
   "metadata": {},
   "source": [
    "## Options to Set"
   ]
  },
  {
   "cell_type": "code",
   "execution_count": null,
   "id": "58516bc1",
   "metadata": {},
   "outputs": [],
   "source": [
    "pd.set_option('display.max_columns', None) # max columns you can display in .head()\n",
    "pd.set_option('display.max_rows', None) # max rows you can display in .head()\n",
    "pd.set_option('display.float_format','{:.0f}'.format) # force display of float columns/override scientific"
   ]
  },
  {
   "cell_type": "markdown",
   "id": "64628ca6",
   "metadata": {},
   "source": [
    "## Example: Read CSV:\n",
    "```\n",
    "df.to_csv('/content/drive/MyDrive/marketing_data_modified.csv', index=False)\n",
    "df = pd.read_csv('/content/drive/MyDrive/marketing_data_modified.csv', low_memory=False, parse_dates=True)\n",
    "df.Dt_Customer = pd.to_datetime(df.Dt_Customer)\n",
    "```"
   ]
  },
  {
   "cell_type": "markdown",
   "id": "70a62203",
   "metadata": {},
   "source": [
    "## Write TSV"
   ]
  },
  {
   "cell_type": "code",
   "execution_count": null,
   "id": "8e0d6589",
   "metadata": {},
   "outputs": [],
   "source": [
    "# reading out to file to save\n",
    "\n",
    "df_final.to_csv('finchgroup_df_final.tsv', sep='\\t', header=True, index=False) "
   ]
  },
  {
   "cell_type": "markdown",
   "id": "64c43630",
   "metadata": {},
   "source": [
    "## Key Pandas Functions\n",
    "\n",
    "```\n",
    "df.head() - Returns the first n rows of a dataset.\n",
    "df.tail() - Returns the last n rows of a dataset.\n",
    "df.info() - Displays information about a DataFrame, including the number of rows, columns, and data types.\n",
    "df.describe() - Generates descriptive statistics for a DataFrame.\n",
    "df.sum() - Calculates the sum of all values in a DataFrame.\n",
    "df.mean() - Calculates the mean of all values in a DataFrame.\n",
    "df.max() - Finds the maximum value in a DataFrame.\n",
    "df.min() - Finds the minimum value in a DataFrame.\n",
    "df.count() - Counts the number of non-null values in a DataFrame.\n",
    "df.groupby() - Groups a DataFrame by one or more columns and performs aggregation operations.\n",
    "df.sort_values() - Sorts a DataFrame by one or more columns.\n",
    "df.filter() - Filters a DataFrame based on conditions applied to one or more columns.\n",
    "df.dropna() - Deletes rows containing missing values in a DataFrame.\n",
    "df.fillna() - Fills missing values in a DataFrame with a specified value.\n",
    "df.astype() - Changes the data type of a DataFrame or a series.\n",
    "df.rename() - Renames columns in a DataFrame.\n",
    "df.reset_index() - Resets the index of a DataFrame.\n",
    "df.melt() - Melts a wide DataFrame into a long DataFrame.\n",
    "df.pivot_table() - Creates a pivot table from a DataFrame.\n",
    "df.plot() - Plots data from a DataFrame.\n",
    "```"
   ]
  },
  {
   "cell_type": "markdown",
   "id": "43031825",
   "metadata": {},
   "source": [
    "## Key Pandas DF Join and Merge\n",
    "\n",
    "* **concat:** -- union\n",
    "* **combine_first:** \n",
    "* **merge:** --join\n",
    "* **merge_ordered:** \n",
    "* **meN:**  \n",
    "* **Transform:** Series-->Dataframe\n",
    "* **reset_index:** \n",
    "* **merge_asof:**\n",
    "* **compare:** \n",
    "* **join:**"
   ]
  },
  {
   "cell_type": "code",
   "execution_count": null,
   "id": "c0404195",
   "metadata": {},
   "outputs": [],
   "source": [
    "# Join Example:\n",
    "\n",
    "df2=df2.join(dfscfin)"
   ]
  },
  {
   "cell_type": "markdown",
   "id": "d31f23e3",
   "metadata": {},
   "source": [
    "## String Manipulation\n",
    "### Lower values case\n",
    "#### using columns\n",
    "```\n",
    "# Rename Pandas columns to lower case\n",
    "df.columns = df.columns.str.lower()\n",
    "```\n",
    "#### using apply map\n",
    "```\n",
    "df = df.applymap(lambda s: s.lower() if type(s) == str else s)\n",
    "```\n",
    "### change column type, strip white space\n",
    "```\n",
    "# Transform income column to a numerical\n",
    "df['income'] = df['income'].str.replace(',','').str.replace('$','').astype('float')\n",
    "```"
   ]
  },
  {
   "cell_type": "markdown",
   "id": "8b3d7507",
   "metadata": {},
   "source": [
    "## Change Column Type"
   ]
  },
  {
   "cell_type": "code",
   "execution_count": null,
   "id": "ff56f04c",
   "metadata": {},
   "outputs": [],
   "source": [
    "df.columns = df.columns.str.replace(' ', '_')\n",
    "df.columns = df.columns.str.lower()\n",
    "df['crm_vendor']=df['crm_vendor'].astype('str')\n",
    "df['market_segment']=df['market_segment'].astype('str')"
   ]
  },
  {
   "cell_type": "markdown",
   "id": "eed06cf5",
   "metadata": {},
   "source": [
    "## Column Recodes"
   ]
  },
  {
   "cell_type": "code",
   "execution_count": 1,
   "id": "e1d9ec05",
   "metadata": {},
   "outputs": [
    {
     "ename": "NameError",
     "evalue": "name 'df' is not defined",
     "output_type": "error",
     "traceback": [
      "\u001b[0;31m---------------------------------------------------------------------------\u001b[0m",
      "\u001b[0;31mNameError\u001b[0m                                 Traceback (most recent call last)",
      "Input \u001b[0;32mIn [1]\u001b[0m, in \u001b[0;36m<cell line: 5>\u001b[0;34m()\u001b[0m\n\u001b[1;32m      1\u001b[0m \u001b[38;5;66;03m# Using Mapper\u001b[39;00m\n\u001b[1;32m      3\u001b[0m mapper \u001b[38;5;241m=\u001b[39m {\u001b[38;5;124m'\u001b[39m\u001b[38;5;124m67\u001b[39m\u001b[38;5;124m'\u001b[39m: \u001b[38;5;124m'\u001b[39m\u001b[38;5;124m9 Unknown\u001b[39m\u001b[38;5;124m'\u001b[39m, \u001b[38;5;124m'\u001b[39m\u001b[38;5;124m68\u001b[39m\u001b[38;5;124m'\u001b[39m: \u001b[38;5;124m'\u001b[39m\u001b[38;5;124m9 Unknown\u001b[39m\u001b[38;5;124m'\u001b[39m, \u001b[38;5;124m'\u001b[39m\u001b[38;5;124m81\u001b[39m\u001b[38;5;124m'\u001b[39m: \u001b[38;5;124m'\u001b[39m\u001b[38;5;124m9 Unknown\u001b[39m\u001b[38;5;124m'\u001b[39m, \u001b[38;5;124m'\u001b[39m\u001b[38;5;124mveryhigh\u001b[39m\u001b[38;5;124m'\u001b[39m: \u001b[38;5;124m'\u001b[39m\u001b[38;5;124m1 Very High\u001b[39m\u001b[38;5;124m'\u001b[39m, \u001b[38;5;124m'\u001b[39m\u001b[38;5;124mhigh\u001b[39m\u001b[38;5;124m'\u001b[39m: \u001b[38;5;124m'\u001b[39m\u001b[38;5;124m2 High\u001b[39m\u001b[38;5;124m'\u001b[39m, \u001b[38;5;124m'\u001b[39m\u001b[38;5;124mmedium\u001b[39m\u001b[38;5;124m'\u001b[39m: \u001b[38;5;124m'\u001b[39m\u001b[38;5;124m3 Medium\u001b[39m\u001b[38;5;124m'\u001b[39m,\n\u001b[1;32m      4\u001b[0m           \u001b[38;5;124m'\u001b[39m\u001b[38;5;124mlow\u001b[39m\u001b[38;5;124m'\u001b[39m: \u001b[38;5;124m'\u001b[39m\u001b[38;5;124m4 Low\u001b[39m\u001b[38;5;124m'\u001b[39m,\u001b[38;5;124m'\u001b[39m\u001b[38;5;124mverylow\u001b[39m\u001b[38;5;124m'\u001b[39m: \u001b[38;5;124m'\u001b[39m\u001b[38;5;124m5 Very Low\u001b[39m\u001b[38;5;124m'\u001b[39m,\u001b[38;5;124m'\u001b[39m\u001b[38;5;124minactive\u001b[39m\u001b[38;5;124m'\u001b[39m: \u001b[38;5;124m'\u001b[39m\u001b[38;5;124m8 Inactive\u001b[39m\u001b[38;5;124m'\u001b[39m}\n\u001b[0;32m----> 5\u001b[0m df[\u001b[38;5;124m'\u001b[39m\u001b[38;5;124mbus_health_rec\u001b[39m\u001b[38;5;124m'\u001b[39m] \u001b[38;5;241m=\u001b[39m \u001b[43mdf\u001b[49m[\u001b[38;5;124m'\u001b[39m\u001b[38;5;124mbusiness_overall_health_score\u001b[39m\u001b[38;5;124m'\u001b[39m]\u001b[38;5;241m.\u001b[39mmap(mapper)\u001b[38;5;241m.\u001b[39mfillna(\u001b[38;5;124m'\u001b[39m\u001b[38;5;124mUnknown\u001b[39m\u001b[38;5;124m'\u001b[39m)\n\u001b[1;32m      6\u001b[0m df[\u001b[38;5;124m'\u001b[39m\u001b[38;5;124mbus_health_rec\u001b[39m\u001b[38;5;124m'\u001b[39m]\u001b[38;5;241m.\u001b[39mvalue_counts()\u001b[38;5;241m.\u001b[39msort_index()\n\u001b[1;32m      8\u001b[0m \u001b[38;5;66;03m# Using Function -- generally mapper is more reliable\u001b[39;00m\n",
      "\u001b[0;31mNameError\u001b[0m: name 'df' is not defined"
     ]
    }
   ],
   "source": [
    "# Using Mapper\n",
    "\n",
    "mapper = {'67': '9 Unknown', '68': '9 Unknown', '81': '9 Unknown', 'veryhigh': '1 Very High', 'high': '2 High', 'medium': '3 Medium',\n",
    "          'low': '4 Low','verylow': '5 Very Low','inactive': '8 Inactive'}\n",
    "df['bus_health_rec'] = df['business_overall_health_score'].map(mapper).fillna('Unknown')\n",
    "df['bus_health_rec'].value_counts().sort_index()\n",
    "\n",
    "# Using Function -- generally mapper is more reliable\n",
    "\n",
    "def crm_rec(crm):\n",
    "    crml=crm.lower()\n",
    "    crml=crml.replace(' ', '')\n",
    "    crm2=crm\n",
    "    if 'salesforce' in crml:\n",
    "        crm2='Salesforce'\n",
    "    elif crml in ['nan','unverified','notapplicable','unknown']:\n",
    "        crm2='Unknown'\n",
    "    return crm2\n",
    "\n",
    "df['crm_recode']=df.apply(lambda row: crm_rec(row['crm_vendor']),axis=1)\n",
    "df['crm_recode'].value_counts().sort_index()\n",
    "\n",
    "# Using row lambda\n",
    "\n",
    "df['bad_stage_sig'] = df[['stage','closed','closed_won']].apply(lambda row: 1 if ((row['stage']=='Closed Lost' and row['closed_won']==1) or (row['stage']=='Closed Won' and row['closed_won']==0)) else 0, axis=1)\n"
   ]
  },
  {
   "cell_type": "markdown",
   "id": "bc8992e5",
   "metadata": {},
   "source": [
    "## Date Manipulation\n",
    "### date to integer calculation\n",
    "#### Example 1:\n",
    "```\n",
    "# Replace 'year_birth' with 'age'\n",
    "df['age'] = current_year - df['year_birth']\n",
    "```\n",
    "#### Example 2:\n",
    "```\n",
    "# Modify date of enrollment to total number of months since enrollment\n",
    "df['enrollment_month'] = (pd.to_datetime('now') - pd.to_datetime(df['dt_customer'])) // np.timedelta64(1,'M')  \n",
    "```"
   ]
  },
  {
   "cell_type": "markdown",
   "id": "c52fb2fe",
   "metadata": {},
   "source": [
    "## Example: get_dummies(, pd.Series(\n",
    "\n",
    "### pd.get_dummies(pd.Series(list('abcaa')))\n",
    "\n",
    "-- pd.Series turns a list or array into a data frame -- or at least columns for a data frame\n",
    "\n",
    "### pd.get_dummies(\n",
    "-- does one-hot encoding on a categorical variable\n",
    "\n"
   ]
  },
  {
   "cell_type": "markdown",
   "id": "d5e12e9b",
   "metadata": {},
   "source": [
    "## Example: FillNA\n",
    "\n",
    "df[' Income '].fillna(df[' Income '].median(), inplace=True)"
   ]
  },
  {
   "cell_type": "markdown",
   "id": "c435e459",
   "metadata": {},
   "source": [
    "## Example Functions\n",
    "\n",
    "### random.seed()\n",
    "### slice numpy array [:]\n",
    "### math on numpy array.\n",
    "### specifying data frames from column names and arrays/lists\n",
    "### create columns in df from calculations on other columns"
   ]
  },
  {
   "cell_type": "code",
   "execution_count": 21,
   "id": "7d3728b9",
   "metadata": {},
   "outputs": [
    {
     "data": {
      "text/html": [
       "<div>\n",
       "<style scoped>\n",
       "    .dataframe tbody tr th:only-of-type {\n",
       "        vertical-align: middle;\n",
       "    }\n",
       "\n",
       "    .dataframe tbody tr th {\n",
       "        vertical-align: top;\n",
       "    }\n",
       "\n",
       "    .dataframe thead th {\n",
       "        text-align: right;\n",
       "    }\n",
       "</style>\n",
       "<table border=\"1\" class=\"dataframe\">\n",
       "  <thead>\n",
       "    <tr style=\"text-align: right;\">\n",
       "      <th></th>\n",
       "      <th>click_day</th>\n",
       "      <th>click_a</th>\n",
       "      <th>click_b</th>\n",
       "      <th>conv_a</th>\n",
       "      <th>conv_b</th>\n",
       "      <th>cumu_click_a</th>\n",
       "      <th>cumu_click_b</th>\n",
       "      <th>cumu_conv_a</th>\n",
       "      <th>cumu_conv_b</th>\n",
       "      <th>cumu_rate_a</th>\n",
       "      <th>cumu_rate_b</th>\n",
       "    </tr>\n",
       "  </thead>\n",
       "  <tbody>\n",
       "    <tr>\n",
       "      <th>0</th>\n",
       "      <td>0</td>\n",
       "      <td>125</td>\n",
       "      <td>87</td>\n",
       "      <td>12</td>\n",
       "      <td>9</td>\n",
       "      <td>125</td>\n",
       "      <td>87</td>\n",
       "      <td>12</td>\n",
       "      <td>9</td>\n",
       "      <td>0.096000</td>\n",
       "      <td>0.103448</td>\n",
       "    </tr>\n",
       "    <tr>\n",
       "      <th>1</th>\n",
       "      <td>1</td>\n",
       "      <td>114</td>\n",
       "      <td>86</td>\n",
       "      <td>11</td>\n",
       "      <td>9</td>\n",
       "      <td>239</td>\n",
       "      <td>173</td>\n",
       "      <td>23</td>\n",
       "      <td>18</td>\n",
       "      <td>0.096234</td>\n",
       "      <td>0.104046</td>\n",
       "    </tr>\n",
       "    <tr>\n",
       "      <th>2</th>\n",
       "      <td>2</td>\n",
       "      <td>67</td>\n",
       "      <td>91</td>\n",
       "      <td>6</td>\n",
       "      <td>9</td>\n",
       "      <td>306</td>\n",
       "      <td>264</td>\n",
       "      <td>29</td>\n",
       "      <td>27</td>\n",
       "      <td>0.094771</td>\n",
       "      <td>0.102273</td>\n",
       "    </tr>\n",
       "    <tr>\n",
       "      <th>3</th>\n",
       "      <td>3</td>\n",
       "      <td>96</td>\n",
       "      <td>103</td>\n",
       "      <td>9</td>\n",
       "      <td>10</td>\n",
       "      <td>402</td>\n",
       "      <td>367</td>\n",
       "      <td>38</td>\n",
       "      <td>37</td>\n",
       "      <td>0.094527</td>\n",
       "      <td>0.100817</td>\n",
       "    </tr>\n",
       "    <tr>\n",
       "      <th>4</th>\n",
       "      <td>4</td>\n",
       "      <td>89</td>\n",
       "      <td>125</td>\n",
       "      <td>9</td>\n",
       "      <td>13</td>\n",
       "      <td>491</td>\n",
       "      <td>492</td>\n",
       "      <td>47</td>\n",
       "      <td>50</td>\n",
       "      <td>0.095723</td>\n",
       "      <td>0.101626</td>\n",
       "    </tr>\n",
       "  </tbody>\n",
       "</table>\n",
       "</div>"
      ],
      "text/plain": [
       "   click_day  click_a  click_b  conv_a  conv_b  cumu_click_a  cumu_click_b  \\\n",
       "0          0      125       87      12       9           125            87   \n",
       "1          1      114       86      11       9           239           173   \n",
       "2          2       67       91       6       9           306           264   \n",
       "3          3       96      103       9      10           402           367   \n",
       "4          4       89      125       9      13           491           492   \n",
       "\n",
       "   cumu_conv_a  cumu_conv_b  cumu_rate_a  cumu_rate_b  \n",
       "0           12            9     0.096000     0.103448  \n",
       "1           23           18     0.096234     0.104046  \n",
       "2           29           27     0.094771     0.102273  \n",
       "3           38           37     0.094527     0.100817  \n",
       "4           47           50     0.095723     0.101626  "
      ]
     },
     "execution_count": 21,
     "metadata": {},
     "output_type": "execute_result"
    }
   ],
   "source": [
    "def gen_campaigns(p1,p2,nb_days,scaler,seed):\n",
    "    \n",
    "    #generate a df of fake data with populations and converstions for each branch\n",
    "\n",
    "    np.random.seed(seed) #\"seed\" causes the same set of pseudo random numbers to appear every time, owing to numpy's \n",
    "        # generation process\n",
    "\n",
    "    # triangular generates a crude prob dist shaped like a triangle, \n",
    "        # used when you don't what the dist might be but think you know its limits and mode\n",
    "        # kwars are (left,mode,right, size)\n",
    "        # if you don't give a size it just returns one random val from the specified interval\n",
    "    ns = np.random.triangular(50,100,150,size=nb_days*2).astype(int)\n",
    "\n",
    "    np.random.seed(seed)\n",
    "\n",
    "        # np.random.randn draws specified count of random values from a standard normal dist\n",
    "        # outputs a numpy ARRAY, which you can do math on -- you can't do math on a list, even though they look the same in\n",
    "            # output\n",
    "    es = np.random.randn(nb_days*2) / scaler # obviously larger scaler --> smaller random vals\n",
    "        # note dividing the array es by a value divides every val in array by same val\n",
    "\n",
    "    #     create an array from the triangular dist \"ns\" above, \n",
    "    # length of \"ns\" is number of input days \"nb_days\"\n",
    "    n1 = ns[:nb_days]\n",
    "\n",
    "    # create an array of conversions \"c1\" from random number array \"es\" by adding and multiplying \n",
    "        # a probability of the array of ns, ensuring that c1i <= n1i\n",
    "        # dists \"es\" and \"n1\"; cast the to integer\n",
    "    c1 = ((p1 + es[:nb_days]) * n1).astype(int)\n",
    "\n",
    "    # create a second array c2 in a corresponding manner:\n",
    "    n2 = ns[nb_days:]\n",
    "    c2 = ((p2 + es[nb_days:]) * n2).astype(int)\n",
    "\n",
    "    # create a df with the artificial test data:\n",
    "        # notice dictionary type format {columname: data}\n",
    "    conv_days = pd.DataFrame({'click_day':range(nb_days),'click_a':n1,'conv_a':c1,'click_b':n2,'conv_b':c2})\n",
    "    \n",
    "    # don't know what this step does -- takes an array from a dataframe\n",
    "    \n",
    "    conv_days =  conv_days[['click_day','click_a','click_b','conv_a','conv_b']]\n",
    "\n",
    "    # create additional metrics, esp the converstion rate columns \"cumu_rate_a\" &c:\n",
    "    conv_days['cumu_click_a'] = conv_days.click_a.cumsum() # cumulative sum\n",
    "    conv_days['cumu_click_b'] = conv_days.click_b.cumsum()\n",
    "    conv_days['cumu_conv_a'] = conv_days.conv_a.cumsum()\n",
    "    conv_days['cumu_conv_b'] = conv_days.conv_b.cumsum()\n",
    "    conv_days['cumu_rate_a'] = conv_days.cumu_conv_a / conv_days.cumu_click_a\n",
    "    conv_days['cumu_rate_b'] = conv_days.cumu_conv_b / conv_days.cumu_click_b    \n",
    "\n",
    "    return conv_days\n",
    "\n",
    "conv_days = gen_campaigns(p1 = 0.10,\n",
    "                          p2 = 0.105,\n",
    "                          nb_days = 24,\n",
    "                          scaler=300,\n",
    "                          seed = 1412) #god-mode \n",
    "\n",
    "conv_days.head()\n"
   ]
  },
  {
   "cell_type": "markdown",
   "id": "c340f2e9",
   "metadata": {},
   "source": [
    "## Reporting Examples\n",
    "### creating one df from another (subsetting)\n",
    "### showing plot from df"
   ]
  },
  {
   "cell_type": "code",
   "execution_count": 22,
   "id": "6f5e1933",
   "metadata": {},
   "outputs": [
    {
     "data": {
      "image/png": "[encoded data removed]",
      "text/plain": [
       "<Figure size 720x360 with 1 Axes>"
      ]
     },
     "metadata": {
      "needs_background": "light"
     },
     "output_type": "display_data"
    }
   ],
   "source": [
    "rates_df = conv_days[['click_day','cumu_rate_a','cumu_rate_b']]\n",
    "\n",
    "rates_df.plot(x='click_day', y=['cumu_rate_a','cumu_rate_b'], figsize=(10,5))\n",
    "\n",
    "plt.show()"
   ]
  },
  {
   "cell_type": "markdown",
   "id": "5e45c9df",
   "metadata": {},
   "source": [
    "### Xtab"
   ]
  },
  {
   "cell_type": "code",
   "execution_count": null,
   "id": "d9ed2c49",
   "metadata": {},
   "outputs": [],
   "source": [
    "tam_xtab1 = (\n",
    "    df[(df['stage_group']=='Open') & (df['has_good_stage_signal']==True)].pivot_table(\n",
    "        index=['emea_na','pred_won_or_lost','final_appeal_score',], columns=['stage_group','has_good_stage_signal'], values='account_name', \n",
    "        aggfunc=np.count_nonzero, margins=True, \n",
    "        margins_name='Total', fill_value=0\n",
    "    )\n",
    "#     .sort_index(axis=0, ascending=False)\n",
    "#     .pipe(lambda d: d.div(d['Total'], axis='index'))\n",
    "#     .applymap('{:.0%}'.format)\n",
    ")\n",
    "\n",
    "tam_xtab1"
   ]
  },
  {
   "cell_type": "markdown",
   "id": "783dd781",
   "metadata": {},
   "source": [
    "## Example 2: specifying df from scratch\n",
    "### creating df column from calculations on other column"
   ]
  },
  {
   "cell_type": "code",
   "execution_count": 23,
   "id": "6ee14326",
   "metadata": {},
   "outputs": [
    {
     "data": {
      "text/html": [
       "<div>\n",
       "<style scoped>\n",
       "    .dataframe tbody tr th:only-of-type {\n",
       "        vertical-align: middle;\n",
       "    }\n",
       "\n",
       "    .dataframe tbody tr th {\n",
       "        vertical-align: top;\n",
       "    }\n",
       "\n",
       "    .dataframe thead th {\n",
       "        text-align: right;\n",
       "    }\n",
       "</style>\n",
       "<table border=\"1\" class=\"dataframe\">\n",
       "  <thead>\n",
       "    <tr style=\"text-align: right;\">\n",
       "      <th></th>\n",
       "      <th>campaign_id</th>\n",
       "      <th>clicks</th>\n",
       "      <th>conv_cnt</th>\n",
       "      <th>conv_per</th>\n",
       "    </tr>\n",
       "  </thead>\n",
       "  <tbody>\n",
       "    <tr>\n",
       "      <th>0</th>\n",
       "      <td>A</td>\n",
       "      <td>2488</td>\n",
       "      <td>234</td>\n",
       "      <td>0.094051</td>\n",
       "    </tr>\n",
       "    <tr>\n",
       "      <th>1</th>\n",
       "      <td>B</td>\n",
       "      <td>2209</td>\n",
       "      <td>222</td>\n",
       "      <td>0.100498</td>\n",
       "    </tr>\n",
       "  </tbody>\n",
       "</table>\n",
       "</div>"
      ],
      "text/plain": [
       "  campaign_id  clicks  conv_cnt  conv_per\n",
       "0           A    2488       234  0.094051\n",
       "1           B    2209       222  0.100498"
      ]
     },
     "execution_count": 23,
     "metadata": {},
     "output_type": "execute_result"
    }
   ],
   "source": [
    "#sum after 2 months\n",
    "conv_df = pd.DataFrame({'campaign_id':['A','B'], 'clicks':[conv_days.click_a.sum(),conv_days.click_b.sum()],\n",
    "                        'conv_cnt':[conv_days.conv_a.sum(),conv_days.conv_b.sum()]})\n",
    "conv_df['conv_per'] =  conv_df['conv_cnt'] / conv_df['clicks']\n",
    "conv_df"
   ]
  },
  {
   "cell_type": "markdown",
   "id": "95ae0a23",
   "metadata": {},
   "source": [
    "## Example: Applying lambda to apply function per row level"
   ]
  },
  {
   "cell_type": "code",
   "execution_count": 30,
   "id": "9b2607be",
   "metadata": {},
   "outputs": [
    {
     "data": {
      "text/html": [
       "<div>\n",
       "<style scoped>\n",
       "    .dataframe tbody tr th:only-of-type {\n",
       "        vertical-align: middle;\n",
       "    }\n",
       "\n",
       "    .dataframe tbody tr th {\n",
       "        vertical-align: top;\n",
       "    }\n",
       "\n",
       "    .dataframe thead th {\n",
       "        text-align: right;\n",
       "    }\n",
       "</style>\n",
       "<table border=\"1\" class=\"dataframe\">\n",
       "  <thead>\n",
       "    <tr style=\"text-align: right;\">\n",
       "      <th></th>\n",
       "      <th>numcol</th>\n",
       "      <th>lambdatest</th>\n",
       "    </tr>\n",
       "  </thead>\n",
       "  <tbody>\n",
       "    <tr>\n",
       "      <th>0</th>\n",
       "      <td>0</td>\n",
       "      <td>0</td>\n",
       "    </tr>\n",
       "    <tr>\n",
       "      <th>1</th>\n",
       "      <td>1</td>\n",
       "      <td>2</td>\n",
       "    </tr>\n",
       "    <tr>\n",
       "      <th>2</th>\n",
       "      <td>2</td>\n",
       "      <td>4</td>\n",
       "    </tr>\n",
       "    <tr>\n",
       "      <th>3</th>\n",
       "      <td>3</td>\n",
       "      <td>6</td>\n",
       "    </tr>\n",
       "    <tr>\n",
       "      <th>4</th>\n",
       "      <td>4</td>\n",
       "      <td>8</td>\n",
       "    </tr>\n",
       "  </tbody>\n",
       "</table>\n",
       "</div>"
      ],
      "text/plain": [
       "   numcol  lambdatest\n",
       "0       0           0\n",
       "1       1           2\n",
       "2       2           4\n",
       "3       3           6\n",
       "4       4           8"
      ]
     },
     "execution_count": 30,
     "metadata": {},
     "output_type": "execute_result"
    }
   ],
   "source": [
    "def use_lambda(a):\n",
    "    return a*2\n",
    "\n",
    "testdf = pd.DataFrame({'numcol':range(5)})\n",
    "testdf['lambdatest']=testdf.apply(lambda row: use_lambda(row['numcol']),axis=1)\n",
    "testdf"
   ]
  },
  {
   "cell_type": "markdown",
   "id": "3929ddab",
   "metadata": {},
   "source": [
    "## Modeling"
   ]
  },
  {
   "cell_type": "markdown",
   "id": "3e10af93",
   "metadata": {},
   "source": [
    "### Scaling Scalars"
   ]
  },
  {
   "cell_type": "code",
   "execution_count": null,
   "id": "de2961ad",
   "metadata": {},
   "outputs": [],
   "source": [
    "# the scalars of justice\n",
    "# scaling scalars for same treatment across all scalar variables\n",
    "    # some of the scalars (e.g. employee count) are very non-normal dists, so we'll use minmax as opposed to normal\n",
    "# https://machinelearningmastery.com/standardscaler-and-minmaxscaler-transforms-in-python/\n",
    "\n",
    "dfsc= df2[scalars].to_numpy()\n",
    "trans = MinMaxScaler()\n",
    "dfscfit = trans.fit_transform(dfsc)\n",
    "scalars=[i+'_sc' for i in scalars]\n",
    "dfscfin = pd.DataFrame(data=dfscfit,columns=scalars)"
   ]
  },
  {
   "cell_type": "markdown",
   "id": "04d78d82",
   "metadata": {},
   "source": [
    "### One Hot Encoding"
   ]
  },
  {
   "cell_type": "code",
   "execution_count": null,
   "id": "d21643e1",
   "metadata": {},
   "outputs": [],
   "source": [
    "cat_vars=['bus_health_rec','_6sense_rec','geography_rec','market_segment_rec','crm_recode','has_salesforce','has_hubspot','has_funding','industry_rec','emea_na','has_crm']\n",
    "\n",
    "df2=pd.get_dummies(data=df,columns=cat_vars,dtype=float) # float is more digestible by .logit()\n",
    "df2['intcpt_dummy']=1 # dummy intercept for logistic regression\n",
    "\n",
    "# get dummies list out of columns\n",
    "dummies_list=[i for i in df2.columns.values.tolist() if i not in df.columns.values.tolist()]"
   ]
  },
  {
   "cell_type": "markdown",
   "id": "c5b97de7",
   "metadata": {},
   "source": [
    "## Logistic Regression"
   ]
  },
  {
   "cell_type": "markdown",
   "id": "a3e9c14a",
   "metadata": {},
   "source": [
    "### RFE Process to Eliminate Useless Variables"
   ]
  },
  {
   "cell_type": "code",
   "execution_count": null,
   "id": "04424c56",
   "metadata": {},
   "outputs": [],
   "source": [
    "# Recursively filtering variables, or RFE\n",
    "    # Evals whether fit improves as variables are dropped from model\n",
    "\n",
    "# filter for only those rows with the right stage and clean stage signal\n",
    "df_mod=df2.loc[(df2['bad_stage_sig']==0) & (df2['stage'].isin(['Closed Won','Closed Lost']))]\n",
    "\n",
    "# split the rows\n",
    "X_train, X_test, y_train, y_test = train_test_split(df_mod[X_list], df_mod[y_list], test_size=0.3, random_state=0)\n",
    "\n",
    "# starting logistic regression; using RFE:\n",
    "\n",
    "logreg = LogisticRegression(max_iter=300)\n",
    "\n",
    "rfe = RFE(logreg, n_features_to_select=20)\n",
    "rfe = rfe.fit(X_train, y_train.values.ravel())\n",
    "\n",
    "# result is a list of Keep=true or false which we can use to drop variables.\n",
    "\n",
    "print(rfe.support_)\n",
    "print(rfe.ranking_)"
   ]
  },
  {
   "cell_type": "markdown",
   "id": "b45e23b1",
   "metadata": {},
   "source": [
    "### Dropping Columns"
   ]
  },
  {
   "cell_type": "code",
   "execution_count": null,
   "id": "9ab9dac4",
   "metadata": {},
   "outputs": [],
   "source": [
    "# initial drop of columns based on RFE above\n",
    "\n",
    "drop=X_train.columns.values[np.logical_not(rfe.support_.tolist())]\n",
    "keep=[i for i in X_train.columns.values if i not in drop]\n",
    "keep=['intcpt_dummy']+keep\n",
    "keep"
   ]
  },
  {
   "cell_type": "markdown",
   "id": "5d664fc0",
   "metadata": {},
   "source": [
    "### Recursive Fit Based on P Values"
   ]
  },
  {
   "cell_type": "code",
   "execution_count": null,
   "id": "56a266ef",
   "metadata": {},
   "outputs": [],
   "source": [
    "# from initial run (not shown), a secondary drop of columns based on p values:\n",
    "keep2=[i for i in keep if i not in ['emp_ct_fin_sc','arr_value_sc','zi_past_2_year_employee_growth_rate_sc','bus_health_rec_9 Unknown',\n",
    "                                    '_6sense_rec_Target','crm_recode_Insight.ly','crm_recode_Oracle CRM','crm_recode_SAP CRM','crm_recode_SugarCRM']]\n",
    "# X_keep=X[keep2]\n",
    "\n",
    "# everyone's examples, e.g.: \n",
    "# https://dadataguy.medium.com/logistic-regression-using-statsmodels-a63e7944de76\n",
    "# have argument order for Logit(y,X) as y,X, which is confusing -- bc it's an entire other code base/api\n",
    "\n",
    "# get readout of p-vals, etc\n",
    "logit_model=sm.Logit(df_mod[y_list],df_mod[keep2])\n",
    "result=logit_model.fit(maxiter=35)\n",
    "print(result.summary2())"
   ]
  },
  {
   "cell_type": "markdown",
   "id": "14c75cf2",
   "metadata": {},
   "source": [
    "### Fit Model for Logistic Regression"
   ]
  },
  {
   "cell_type": "code",
   "execution_count": null,
   "id": "18bd6c9a",
   "metadata": {},
   "outputs": [],
   "source": [
    "# fit the model\n",
    "\n",
    "X_train, X_test, y_train, y_test = train_test_split(df_mod[keep2], df_mod[y_list], test_size=0.3, random_state=0)\n",
    "\n",
    "# https://scikit-learn.org/stable/modules/generated/sklearn.linear_model.LogisticRegression.html\n",
    "    # argument order for .fit() is .fit(X, y)\n",
    "logreg = LogisticRegression()\n",
    "logreg.fit(X_train, y_train.values.ravel())"
   ]
  },
  {
   "cell_type": "markdown",
   "id": "d9e668c4",
   "metadata": {},
   "source": [
    "### Accuracy"
   ]
  },
  {
   "cell_type": "code",
   "execution_count": null,
   "id": "97db4f73",
   "metadata": {},
   "outputs": [],
   "source": [
    "# Check Accuracy\n",
    "y_pred = logreg.predict(X_test)\n",
    "y_pred_prob = logreg.predict_proba(X_test)[:,1]\n",
    "\n",
    "print('Accuracy of logistic regression classifier on test set: {:.2f}'.format(logreg.score(X_test, y_test)))\n",
    "\n",
    "# Accuracy .83.  Not bad.  Good enough to move forward for excercise without grid search & cross val.  \n",
    "    # In real life we would try to nudge it higher with such additional steps."
   ]
  },
  {
   "cell_type": "markdown",
   "id": "c31fb750",
   "metadata": {},
   "source": [
    "### Confusion Matrix"
   ]
  },
  {
   "cell_type": "code",
   "execution_count": null,
   "id": "df511edb",
   "metadata": {},
   "outputs": [],
   "source": [
    "# Confusion Matrix\n",
    "\n",
    "cm = confusion_matrix(y_test, y_pred)\n",
    "print(cm)"
   ]
  },
  {
   "cell_type": "markdown",
   "id": "e11a1f80",
   "metadata": {},
   "source": [
    "### Classification Scores"
   ]
  },
  {
   "cell_type": "code",
   "execution_count": null,
   "id": "37d25bf9",
   "metadata": {},
   "outputs": [],
   "source": [
    "# Classification Scores\n",
    "\n",
    "print(classification_report(y_test, y_pred))"
   ]
  },
  {
   "cell_type": "markdown",
   "id": "304b5675",
   "metadata": {},
   "source": [
    "### ROC"
   ]
  },
  {
   "cell_type": "code",
   "execution_count": null,
   "id": "ac37cc2d",
   "metadata": {},
   "outputs": [],
   "source": [
    "# ROC \n",
    "# Keeping nicely away from the 50/50 line\n",
    "\n",
    "logit_roc_auc = roc_auc_score(y_test, logreg.predict(X_test))\n",
    "fpr, tpr, thresholds = roc_curve(y_test, logreg.predict_proba(X_test)[:,1])\n",
    "plt.figure()\n",
    "plt.plot(fpr, tpr, label='Logistic Regression (area = %0.2f)' % logit_roc_auc)\n",
    "plt.plot([0, 1], [0, 1],'r--')\n",
    "plt.xlim([0.0, 1.0])\n",
    "plt.ylim([0.0, 1.05])\n",
    "plt.xlabel('False Positive Rate')\n",
    "plt.ylabel('True Positive Rate')\n",
    "plt.title('Receiver operating characteristic')\n",
    "plt.legend(loc=\"lower right\")\n",
    "plt.savefig('Log_ROC')\n",
    "plt.show()"
   ]
  }
 ],
 "metadata": {
  "kernelspec": {
   "display_name": "Python 3 (ipykernel)",
   "language": "python",
   "name": "python3"
  },
  "language_info": {
   "codemirror_mode": {
    "name": "ipython",
    "version": 3
   },
   "file_extension": ".py",
   "mimetype": "text/x-python",
   "name": "python",
   "nbconvert_exporter": "python",
   "pygments_lexer": "ipython3",
   "version": "3.8.10"
  }
 },
 "nbformat": 4,
 "nbformat_minor": 5
}
