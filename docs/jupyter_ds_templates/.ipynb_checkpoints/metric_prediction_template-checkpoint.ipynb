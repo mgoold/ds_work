{
 "cells": [
  {
   "cell_type": "markdown",
   "id": "392ba67d",
   "metadata": {},
   "source": [
    "## metric_prediction_template\n",
    "* **Note**: Assumes, EDA, Cleaning, have already been done and that various predictive models are acceptable to use."
   ]
  },
  {
   "cell_type": "markdown",
   "id": "01c7e981",
   "metadata": {},
   "source": [
    "## Logistic \n",
    "### Sources:\n",
    "```\n",
    "good example with confusion, grid search AUC: https://github.com/susanli2016/Machine-Learning-with-Python/blob/master/Logistic%20Regression%20in%20Python%20-%20Step%20by%20Step.ipynb\n",
    "```\n",
    "\n",
    "### Example 1: With Grid Search\n",
    "#### Source: https://github.com/sundar911/marketing_analytics/blob/main/marketing_analytics.ipynb\n",
    "\n",
    "```\n",
    "x = df_sp_analyse.drop(columns=cols)\n",
    "y = df_sp_analyse.Response\n",
    "x_train, x_test, y_train, y_test = train_test_split(x, y, test_size=0.3, random_state=42)\n",
    "\n",
    "\n",
    "# Hyper Parameter Tuning with Grid Search:\n",
    "\n",
    "# example of grid searching key hyperparametres for logistic regression\n",
    "from sklearn.model_selection import RepeatedStratifiedKFold\n",
    "from sklearn.model_selection import GridSearchCV\n",
    "from sklearn.linear_model import LogisticRegression\n",
    "\n",
    "# define models and parameters\n",
    "model = LogisticRegression()\n",
    "solvers = ['newton-cg', 'lbfgs', 'liblinear']\n",
    "penalty = ['l2']\n",
    "c_values = [100, 10, 1.0, 0.1, 0.01]\n",
    "# define grid search\n",
    "grid = dict(solver=solvers,penalty=penalty,C=c_values)\n",
    "cv = RepeatedStratifiedKFold(n_splits=10, n_repeats=3, random_state=42)\n",
    "grid_search = GridSearchCV(estimator=model, param_grid=grid, n_jobs=-1, cv=cv, scoring='accuracy',error_score=0)\n",
    "grid_result = grid_search.fit(x, y)\n",
    "# summarize results\n",
    "print(\"Best: %f using %s\" % (grid_result.best_score_, grid_result.best_params_))\n",
    "means = grid_result.cv_results_['mean_test_score']\n",
    "stds = grid_result.cv_results_['std_test_score']\n",
    "params = grid_result.cv_results_['params']\n",
    "for mean, stdev, param in zip(means, stds, params):\n",
    "    print(\"%f (%f) with: %r\" % (mean, stdev, param))\n",
    "```\n",
    "\n",
    "## Using Confusion Matrix\n",
    "#### Source: https://github.com/sundar911/marketing_analytics/blob/main/marketing_analytics.ipynb"
   ]
  },
  {
   "cell_type": "code",
   "execution_count": null,
   "id": "c11d533d",
   "metadata": {},
   "outputs": [],
   "source": []
  }
 ],
 "metadata": {
  "kernelspec": {
   "display_name": "Python 3 (ipykernel)",
   "language": "python",
   "name": "python3"
  },
  "language_info": {
   "codemirror_mode": {
    "name": "ipython",
    "version": 3
   },
   "file_extension": ".py",
   "mimetype": "text/x-python",
   "name": "python",
   "nbconvert_exporter": "python",
   "pygments_lexer": "ipython3",
   "version": "3.8.10"
  }
 },
 "nbformat": 4,
 "nbformat_minor": 5
}
