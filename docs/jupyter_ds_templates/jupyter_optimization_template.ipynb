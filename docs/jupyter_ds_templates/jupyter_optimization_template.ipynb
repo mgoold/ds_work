{
 "cells": [
  {
   "cell_type": "markdown",
   "id": "a772ed40",
   "metadata": {},
   "source": [
    "# jupyter_optimization_template"
   ]
  },
  {
   "cell_type": "markdown",
   "id": "9643aac7",
   "metadata": {},
   "source": [
    "## Sources\n",
    "```\n",
    "https://github.com/mohodhruda/Attribution-Modeling-Budget-Optimization/blob/master/Budget%20Optimization%20%26%20ROI%20Simulation/5.%20Budget_Optimization_ROI_%26_Visualizing_Attribution_Weights_final.ipynb\n",
    "```"
   ]
  },
  {
   "cell_type": "markdown",
   "id": "35a4759e",
   "metadata": {},
   "source": [
    "## Notes:\n",
    "* remember that attribution and optimization are interrelated when it comes to campaign spend\n",
    "* for attribution, LTSMA and logistic are likely your winning approaches"
   ]
  },
  {
   "cell_type": "code",
   "execution_count": null,
   "id": "40d71b2d",
   "metadata": {},
   "outputs": [],
   "source": []
  }
 ],
 "metadata": {
  "kernelspec": {
   "display_name": "Python 3 (ipykernel)",
   "language": "python",
   "name": "python3"
  },
  "language_info": {
   "codemirror_mode": {
    "name": "ipython",
    "version": 3
   },
   "file_extension": ".py",
   "mimetype": "text/x-python",
   "name": "python",
   "nbconvert_exporter": "python",
   "pygments_lexer": "ipython3",
   "version": "3.8.10"
  }
 },
 "nbformat": 4,
 "nbformat_minor": 5
}
